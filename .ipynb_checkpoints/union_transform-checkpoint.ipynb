{
 "cells": [
  {
   "cell_type": "markdown",
   "metadata": {},
   "source": [
    "## ETL: Union Transformation\n",
    "\n",
    "This transformation is meant to union/merge all the excel files we have generated over time to track the coronavirus. In our case we have data we collected on the 2nd and the 3rd of April and which follow a common naming convention.\n"
   ]
  },
  {
   "cell_type": "code",
   "execution_count": 76,
   "metadata": {},
   "outputs": [],
   "source": [
    "#import the libraries of interest\n",
    "\n",
    "import pandas as pd\n",
    "import os, re"
   ]
  },
  {
   "cell_type": "code",
   "execution_count": 77,
   "metadata": {},
   "outputs": [],
   "source": [
    "#create an empty dataframe\n",
    "\n",
    "historical_cases_data= pd.DataFrame()"
   ]
  },
  {
   "cell_type": "code",
   "execution_count": 78,
   "metadata": {},
   "outputs": [],
   "source": [
    "#create a list of the files in the directory\n",
    "\n",
    "case_files=os.listdir('.')"
   ]
  },
  {
   "cell_type": "markdown",
   "metadata": {},
   "source": [
    "#### Union Transformation Steps: \n",
    "\n",
    "1. Loop through the files to read them into the staging_data dataframe\n",
    "2. Leverage the re library to specify files that start with/match the naming convention used ('cases_')\n",
    "3. Append the data in the staging_data dataframe to the empty dataframe created initially (Union Transform)\n",
    "4. Validate the final dataset using the head and tail functions"
   ]
  },
  {
   "cell_type": "code",
   "execution_count": 79,
   "metadata": {},
   "outputs": [],
   "source": [
    "for file in case_files:\n",
    "    if re.match('cases_', file):\n",
    "        staging_data=pd.read_excel(file, index_col=[0])\n",
    "        historical_cases_data=historical_cases_data.append(staging_data)"
   ]
  },
  {
   "cell_type": "code",
   "execution_count": 80,
   "metadata": {},
   "outputs": [
    {
     "data": {
      "text/html": [
       "<div>\n",
       "<style scoped>\n",
       "    .dataframe tbody tr th:only-of-type {\n",
       "        vertical-align: middle;\n",
       "    }\n",
       "\n",
       "    .dataframe tbody tr th {\n",
       "        vertical-align: top;\n",
       "    }\n",
       "\n",
       "    .dataframe thead th {\n",
       "        text-align: right;\n",
       "    }\n",
       "</style>\n",
       "<table border=\"1\" class=\"dataframe\">\n",
       "  <thead>\n",
       "    <tr style=\"text-align: right;\">\n",
       "      <th></th>\n",
       "      <th>Total Cases</th>\n",
       "      <th>New Cases</th>\n",
       "      <th>Total Deaths</th>\n",
       "      <th>New Deaths</th>\n",
       "      <th>Total Recovered</th>\n",
       "      <th>Active Cases</th>\n",
       "      <th>Serious/Critical</th>\n",
       "      <th>Tot Cases/1M pop</th>\n",
       "      <th>Tot Deaths/1M pop</th>\n",
       "      <th>Date</th>\n",
       "    </tr>\n",
       "    <tr>\n",
       "      <th>Country, Other</th>\n",
       "      <th></th>\n",
       "      <th></th>\n",
       "      <th></th>\n",
       "      <th></th>\n",
       "      <th></th>\n",
       "      <th></th>\n",
       "      <th></th>\n",
       "      <th></th>\n",
       "      <th></th>\n",
       "      <th></th>\n",
       "    </tr>\n",
       "  </thead>\n",
       "  <tbody>\n",
       "    <tr>\n",
       "      <th>St. Vincent Grenadines</th>\n",
       "      <td>2</td>\n",
       "      <td>NaN</td>\n",
       "      <td></td>\n",
       "      <td>NaN</td>\n",
       "      <td>1</td>\n",
       "      <td>1</td>\n",
       "      <td>NaN</td>\n",
       "      <td>18</td>\n",
       "      <td>NaN</td>\n",
       "      <td>04/03/2020</td>\n",
       "    </tr>\n",
       "    <tr>\n",
       "      <th>Sierra Leone</th>\n",
       "      <td>2</td>\n",
       "      <td>NaN</td>\n",
       "      <td></td>\n",
       "      <td>NaN</td>\n",
       "      <td>NaN</td>\n",
       "      <td>2</td>\n",
       "      <td>NaN</td>\n",
       "      <td>0.3</td>\n",
       "      <td>NaN</td>\n",
       "      <td>04/03/2020</td>\n",
       "    </tr>\n",
       "    <tr>\n",
       "      <th>Papua New Guinea</th>\n",
       "      <td>1</td>\n",
       "      <td>NaN</td>\n",
       "      <td></td>\n",
       "      <td>NaN</td>\n",
       "      <td>NaN</td>\n",
       "      <td>1</td>\n",
       "      <td>NaN</td>\n",
       "      <td>0.1</td>\n",
       "      <td>NaN</td>\n",
       "      <td>04/03/2020</td>\n",
       "    </tr>\n",
       "    <tr>\n",
       "      <th>Timor-Leste</th>\n",
       "      <td>1</td>\n",
       "      <td>NaN</td>\n",
       "      <td></td>\n",
       "      <td>NaN</td>\n",
       "      <td>NaN</td>\n",
       "      <td>1</td>\n",
       "      <td>NaN</td>\n",
       "      <td>0.8</td>\n",
       "      <td>NaN</td>\n",
       "      <td>04/03/2020</td>\n",
       "    </tr>\n",
       "    <tr>\n",
       "      <th>China</th>\n",
       "      <td>81,620</td>\n",
       "      <td>31</td>\n",
       "      <td>3,322</td>\n",
       "      <td>4.0</td>\n",
       "      <td>76,571</td>\n",
       "      <td>1,727</td>\n",
       "      <td>379</td>\n",
       "      <td>57</td>\n",
       "      <td>2.0</td>\n",
       "      <td>04/03/2020</td>\n",
       "    </tr>\n",
       "  </tbody>\n",
       "</table>\n",
       "</div>"
      ],
      "text/plain": [
       "                       Total Cases New Cases Total Deaths  New Deaths  \\\n",
       "Country, Other                                                          \n",
       "St. Vincent Grenadines           2       NaN                      NaN   \n",
       "Sierra Leone                     2       NaN                      NaN   \n",
       "Papua New Guinea                 1       NaN                      NaN   \n",
       "Timor-Leste                      1       NaN                      NaN   \n",
       "China                       81,620        31       3,322          4.0   \n",
       "\n",
       "                       Total Recovered Active Cases Serious/Critical  \\\n",
       "Country, Other                                                         \n",
       "St. Vincent Grenadines               1            1              NaN   \n",
       "Sierra Leone                       NaN            2              NaN   \n",
       "Papua New Guinea                   NaN            1              NaN   \n",
       "Timor-Leste                        NaN            1              NaN   \n",
       "China                           76,571        1,727              379   \n",
       "\n",
       "                       Tot Cases/1M pop  Tot Deaths/1M pop        Date  \n",
       "Country, Other                                                          \n",
       "St. Vincent Grenadines               18                NaN  04/03/2020  \n",
       "Sierra Leone                        0.3                NaN  04/03/2020  \n",
       "Papua New Guinea                    0.1                NaN  04/03/2020  \n",
       "Timor-Leste                         0.8                NaN  04/03/2020  \n",
       "China                                57                2.0  04/03/2020  "
      ]
     },
     "execution_count": 80,
     "metadata": {},
     "output_type": "execute_result"
    }
   ],
   "source": [
    "#use the head/tail function to validate\n",
    "\n",
    "historical_cases_data.tail()"
   ]
  }
 ],
 "metadata": {
  "kernelspec": {
   "display_name": "Python 3",
   "language": "python",
   "name": "python3"
  },
  "language_info": {
   "codemirror_mode": {
    "name": "ipython",
    "version": 3
   },
   "file_extension": ".py",
   "mimetype": "text/x-python",
   "name": "python",
   "nbconvert_exporter": "python",
   "pygments_lexer": "ipython3",
   "version": "3.8.0"
  }
 },
 "nbformat": 4,
 "nbformat_minor": 4
}
