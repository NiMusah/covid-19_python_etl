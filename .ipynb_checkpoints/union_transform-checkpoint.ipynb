{
 "cells": [
  {
   "cell_type": "markdown",
   "metadata": {},
   "source": [
    "## ETL: Union Transformation\n",
    "\n",
    "This transformation is meant to union/merge all the excel files we have generated over time to track the coronavirus. In our case we have data we collected on the 2nd and the 3rd of April and which follow a common naming convention.\n"
   ]
  },
  {
   "cell_type": "code",
   "execution_count": 86,
   "metadata": {},
   "outputs": [],
   "source": [
    "#import the libraries of interest\n",
    "\n",
    "import pandas as pd\n",
    "import os, re"
   ]
  },
  {
   "cell_type": "code",
   "execution_count": 87,
   "metadata": {},
   "outputs": [],
   "source": [
    "#create an empty dataframe\n",
    "\n",
    "historical_cases_data= pd.DataFrame()"
   ]
  },
  {
   "cell_type": "code",
   "execution_count": 88,
   "metadata": {},
   "outputs": [],
   "source": [
    "#create a list of the files in the directory\n",
    "\n",
    "case_files=os.listdir('.')"
   ]
  },
  {
   "cell_type": "markdown",
   "metadata": {},
   "source": [
    "#### Union Transformation Steps: \n",
    "\n",
    "1. Loop through the files to read them into the staging_data dataframe\n",
    "2. Leverage the re library to specify files that start with/match the naming convention used ('cases_')\n",
    "3. Append the data in the staging_data dataframe to the empty dataframe created initially (Union Transform)\n",
    "4. Validate the final dataset using the head and tail functions"
   ]
  },
  {
   "cell_type": "code",
   "execution_count": 94,
   "metadata": {},
   "outputs": [],
   "source": [
    "for file in case_files:\n",
    "    if re.match('cases_', file):\n",
    "        staging_data=pd.read_excel(file)\n",
    "        historical_cases_data=historical_cases_data.append(staging_data)"
   ]
  },
  {
   "cell_type": "code",
   "execution_count": 95,
   "metadata": {},
   "outputs": [
    {
     "data": {
      "text/html": [
       "<div>\n",
       "<style scoped>\n",
       "    .dataframe tbody tr th:only-of-type {\n",
       "        vertical-align: middle;\n",
       "    }\n",
       "\n",
       "    .dataframe tbody tr th {\n",
       "        vertical-align: top;\n",
       "    }\n",
       "\n",
       "    .dataframe thead th {\n",
       "        text-align: right;\n",
       "    }\n",
       "</style>\n",
       "<table border=\"1\" class=\"dataframe\">\n",
       "  <thead>\n",
       "    <tr style=\"text-align: right;\">\n",
       "      <th></th>\n",
       "      <th>Country, Other</th>\n",
       "      <th>Total Cases</th>\n",
       "      <th>New Cases</th>\n",
       "      <th>Total Deaths</th>\n",
       "      <th>New Deaths</th>\n",
       "      <th>Total Recovered</th>\n",
       "      <th>Active Cases</th>\n",
       "      <th>Serious/Critical</th>\n",
       "      <th>Tot Cases/1M pop</th>\n",
       "      <th>Tot Deaths/1M pop</th>\n",
       "      <th>Date</th>\n",
       "    </tr>\n",
       "  </thead>\n",
       "  <tbody>\n",
       "    <tr>\n",
       "      <th>0</th>\n",
       "      <td>USA</td>\n",
       "      <td>215,357</td>\n",
       "      <td>+354</td>\n",
       "      <td>5,113</td>\n",
       "      <td>11.0</td>\n",
       "      <td>8,878</td>\n",
       "      <td>201,366</td>\n",
       "      <td>5,005</td>\n",
       "      <td>651</td>\n",
       "      <td>15.0</td>\n",
       "      <td>04/02/2020</td>\n",
       "    </tr>\n",
       "    <tr>\n",
       "      <th>1</th>\n",
       "      <td>Italy</td>\n",
       "      <td>110,574</td>\n",
       "      <td>NaN</td>\n",
       "      <td>13,155</td>\n",
       "      <td>NaN</td>\n",
       "      <td>16,847</td>\n",
       "      <td>80,572</td>\n",
       "      <td>4,035</td>\n",
       "      <td>1,829</td>\n",
       "      <td>218.0</td>\n",
       "      <td>04/02/2020</td>\n",
       "    </tr>\n",
       "    <tr>\n",
       "      <th>2</th>\n",
       "      <td>Spain</td>\n",
       "      <td>110,238</td>\n",
       "      <td>+6,120</td>\n",
       "      <td>10,003</td>\n",
       "      <td>616.0</td>\n",
       "      <td>26,743</td>\n",
       "      <td>73,492</td>\n",
       "      <td>6,092</td>\n",
       "      <td>2,358</td>\n",
       "      <td>214.0</td>\n",
       "      <td>04/02/2020</td>\n",
       "    </tr>\n",
       "    <tr>\n",
       "      <th>3</th>\n",
       "      <td>Germany</td>\n",
       "      <td>79,465</td>\n",
       "      <td>+1,484</td>\n",
       "      <td>959</td>\n",
       "      <td>28.0</td>\n",
       "      <td>19,175</td>\n",
       "      <td>59,331</td>\n",
       "      <td>3,408</td>\n",
       "      <td>948</td>\n",
       "      <td>11.0</td>\n",
       "      <td>04/02/2020</td>\n",
       "    </tr>\n",
       "    <tr>\n",
       "      <th>4</th>\n",
       "      <td>France</td>\n",
       "      <td>56,989</td>\n",
       "      <td>NaN</td>\n",
       "      <td>4,032</td>\n",
       "      <td>NaN</td>\n",
       "      <td>10,935</td>\n",
       "      <td>42,022</td>\n",
       "      <td>6,017</td>\n",
       "      <td>873</td>\n",
       "      <td>62.0</td>\n",
       "      <td>04/02/2020</td>\n",
       "    </tr>\n",
       "  </tbody>\n",
       "</table>\n",
       "</div>"
      ],
      "text/plain": [
       "  Country, Other Total Cases New Cases Total Deaths  New Deaths  \\\n",
       "0            USA     215,357      +354       5,113         11.0   \n",
       "1          Italy     110,574       NaN      13,155          NaN   \n",
       "2          Spain     110,238    +6,120      10,003        616.0   \n",
       "3        Germany      79,465    +1,484         959         28.0   \n",
       "4         France      56,989       NaN       4,032          NaN   \n",
       "\n",
       "  Total Recovered Active Cases Serious/Critical Tot Cases/1M pop  \\\n",
       "0           8,878      201,366            5,005              651   \n",
       "1          16,847       80,572            4,035            1,829   \n",
       "2          26,743       73,492            6,092            2,358   \n",
       "3          19,175       59,331            3,408              948   \n",
       "4          10,935       42,022            6,017              873   \n",
       "\n",
       "   Tot Deaths/1M pop        Date  \n",
       "0               15.0  04/02/2020  \n",
       "1              218.0  04/02/2020  \n",
       "2              214.0  04/02/2020  \n",
       "3               11.0  04/02/2020  \n",
       "4               62.0  04/02/2020  "
      ]
     },
     "execution_count": 95,
     "metadata": {},
     "output_type": "execute_result"
    }
   ],
   "source": [
    "#use the head/tail function to validate\n",
    "\n",
    "historical_cases_data.head()"
   ]
  },
  {
   "cell_type": "code",
   "execution_count": 93,
   "metadata": {},
   "outputs": [],
   "source": [
    "#write to excel\n",
    "\n",
    "historical_cases_data.to_excel('corona_virus_historical_data.xlsx', index=False)"
   ]
  }
 ],
 "metadata": {
  "kernelspec": {
   "display_name": "Python 3",
   "language": "python",
   "name": "python3"
  },
  "language_info": {
   "codemirror_mode": {
    "name": "ipython",
    "version": 3
   },
   "file_extension": ".py",
   "mimetype": "text/x-python",
   "name": "python",
   "nbconvert_exporter": "python",
   "pygments_lexer": "ipython3",
   "version": "3.8.0"
  }
 },
 "nbformat": 4,
 "nbformat_minor": 4
}
